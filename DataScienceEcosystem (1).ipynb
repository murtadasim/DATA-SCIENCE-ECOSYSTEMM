{
  "metadata": {
    "kernelspec": {
      "name": "python",
      "display_name": "Python (Pyodide)",
      "language": "python"
    },
    "language_info": {
      "codemirror_mode": {
        "name": "python",
        "version": 3
      },
      "file_extension": ".py",
      "mimetype": "text/x-python",
      "name": "python",
      "nbconvert_exporter": "python",
      "pygments_lexer": "ipython3",
      "version": "3.8"
    }
  },
  "nbformat_minor": 4,
  "nbformat": 4,
  "cells": [
    {
      "cell_type": "markdown",
      "source": "# Data Science Tools And Ecosystem\n",
      "metadata": {}
    },
    {
      "cell_type": "markdown",
      "source": "### In this notebook, Data Science Tools And Ecosystem Are Summarised\n",
      "metadata": {}
    },
    {
      "cell_type": "markdown",
      "source": "this notebook covers some essential objectives, such as:\n\n+ popular languages that Data Scientists.\n+ Some of the commonly used libraries.\n+ Some Data Sience Tools.\n+ few examples of evaluating arithmetic expressions in Python.\n",
      "metadata": {}
    },
    {
      "cell_type": "markdown",
      "source": "Some of the popular languages that Data Scientists use are:\n\n1. python\n2. R \n3. julia \n4. SQL \n",
      "metadata": {}
    },
    {
      "cell_type": "markdown",
      "source": "Some of the commonly used libraries used by Data Scientists include:\n\n1. NumPy\n2. Scikit-learn\n3. Matplotlib\n4. pandas\n",
      "metadata": {}
    },
    {
      "cell_type": "markdown",
      "source": "|Data Sience Tools|\n|-----------------|\n|Anaconda navigator|\n|jupyter lab|\n|Rstudio|\n|apache hadoop|\n ",
      "metadata": {}
    },
    {
      "cell_type": "markdown",
      "source": "#### Below are a few examples of evaluating arithmetic expressions in Python:\n",
      "metadata": {}
    },
    {
      "cell_type": "code",
      "source": "#This a simple arithmetic expression to mutiply then add integers\n\n(3*4)+5\n",
      "metadata": {
        "trusted": true
      },
      "outputs": [
        {
          "execution_count": 2,
          "output_type": "execute_result",
          "data": {
            "text/plain": "17"
          },
          "metadata": {}
        }
      ],
      "execution_count": 2
    },
    {
      "cell_type": "markdown",
      "source": "### converting minutes to hours:\n\n",
      "metadata": {}
    },
    {
      "cell_type": "code",
      "source": "x=200\nprint (x//60)\n\n",
      "metadata": {
        "trusted": true
      },
      "outputs": [
        {
          "name": "stdout",
          "text": "3\n",
          "output_type": "stream"
        }
      ],
      "execution_count": 8
    },
    {
      "cell_type": "markdown",
      "source": "## Auther\nMURTADA ASIM\n",
      "metadata": {}
    }
  ]
}